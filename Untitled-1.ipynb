{
 "cells": [
  {
   "cell_type": "code",
   "execution_count": null,
   "metadata": {},
   "outputs": [],
   "source": [
    "https://casandrad.getcredithelpnow.com/startfbclid=IwAR2_mfa4kJFlguOpgkEoCqODoLOst2vUBbUh32zY_3ORO0BRmwHAqfts8FA\n"
   ]
  }
 ],
 "metadata": {
  "language_info": {
   "name": "python"
  }
 },
 "nbformat": 4,
 "nbformat_minor": 2
}
